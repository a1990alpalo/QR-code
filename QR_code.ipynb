{
 "cells": [
  {
   "cell_type": "code",
   "execution_count": 13,
   "id": "8f5d5fb5",
   "metadata": {},
   "outputs": [
    {
     "name": "stdout",
     "output_type": "stream",
     "text": [
      "✅ QR code saved to: C:\\Users\\A1990\\AppData\\Local\\Programs\\Microsoft VS Code\\catalog_qr.png\n"
     ]
    }
   ],
   "source": [
    "import qrcode\n",
    "from pathlib import Path\n",
    "\n",
    "# ✅ Replace this with the final public link once hosted on GitHub Pages\n",
    "CATALOG_URL = \"https://github.com/a1990alpalo/QR-code\"  # Update this if using GitHub Pages\n",
    "\n",
    "# ✅ Create QR code with error correction (medium)\n",
    "qr = qrcode.QRCode(\n",
    "    version=1,\n",
    "    box_size=10,\n",
    "    border=5,\n",
    "    error_correction=qrcode.constants.ERROR_CORRECT_M,\n",
    ")\n",
    "\n",
    "qr.add_data(CATALOG_URL)\n",
    "qr.make(fit=True)\n",
    "\n",
    "# ✅ Customize appearance of QR image\n",
    "img = qr.make_image(fill_color=\"black\", back_color=\"white\")\n",
    "\n",
    "# ✅ Save the QR image as \"catalog_qr.png\" in the same directory\n",
    "out_path = Path.cwd() / \"catalog_qr.png\"\n",
    "img.save(out_path)\n",
    "\n",
    "\n",
    "print(f\"✅ QR code saved to: {out_path.resolve()}\")\n",
    "\n",
    "\n",
    "\n"
   ]
  }
 ],
 "metadata": {
  "kernelspec": {
   "display_name": "dev",
   "language": "python",
   "name": "python3"
  },
  "language_info": {
   "codemirror_mode": {
    "name": "ipython",
    "version": 3
   },
   "file_extension": ".py",
   "mimetype": "text/x-python",
   "name": "python",
   "nbconvert_exporter": "python",
   "pygments_lexer": "ipython3",
   "version": "3.10.13"
  }
 },
 "nbformat": 4,
 "nbformat_minor": 5
}
